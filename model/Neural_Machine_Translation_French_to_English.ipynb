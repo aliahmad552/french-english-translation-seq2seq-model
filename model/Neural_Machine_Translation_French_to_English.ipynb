{
  "nbformat": 4,
  "nbformat_minor": 0,
  "metadata": {
    "colab": {
      "provenance": [],
      "gpuType": "T4"
    },
    "kernelspec": {
      "name": "python3",
      "display_name": "Python 3"
    },
    "language_info": {
      "name": "python"
    },
    "accelerator": "GPU"
  },
  "cells": [
    {
      "cell_type": "markdown",
      "source": [
        "# Seq2Seq\n",
        "\n",
        "Seq2Seq model is the learning of sequence text as input and sequence text in output. Note that the length of the input and output must not be the same. A typical sequence to sequence model consiste of encoder and decoder which are themselves two separate neural networks combined into a single giant network. Both encoder and decoder are typically LSTM or GRU models.\n",
        "Some applications of Seq2Seq models are Neural machine translation, Image captioning, speech recognition, chat-bot, time-series forecasting e.t.c."
      ],
      "metadata": {
        "id": "CY0GVu0BXi-3"
      }
    },
    {
      "cell_type": "markdown",
      "source": [
        "# Machine Translation using seq2seq with Attention Impletmentation\n",
        "In this project we are going to learn seq2seq with which we implement attention mechanism for better result. The problem with typical seq2seq model which has only encoder and decoder is that it is not better for long sentences and there are some issue with performance also. That why we add attention mechanism for better performance and fast training.\n",
        "Steps:\n",
        "1) Loading Data\n",
        "2) Preprocessing\n",
        "3) Tokenization\n",
        "4) Padding\n",
        "5) Train Test Splitting\n",
        "4) Encoder\n",
        "7) Bahdanau Attention\n",
        "8) Decoder\n",
        "9) Traing\n",
        "10) Inference\n",
        "11) Evaluation"
      ],
      "metadata": {
        "id": "AAMEsC-lYjYT"
      }
    },
    {
      "cell_type": "markdown",
      "source": [
        "# Loading Data\n",
        "we use french to english dataset for this project. We download this dataset from http://www.manythings.org/anki/.\n",
        "In this dataset every line is the paire of first english and then france sentence. We convert english and french sentence separately we do data cleaning."
      ],
      "metadata": {
        "id": "JTS96_V7Z7mg"
      }
    },
    {
      "cell_type": "code",
      "execution_count": 1,
      "metadata": {
        "colab": {
          "base_uri": "https://localhost:8080/"
        },
        "id": "zhyMvVRtXTuY",
        "outputId": "089b75b3-54fe-4ec8-edc2-6f375a047213"
      },
      "outputs": [
        {
          "output_type": "stream",
          "name": "stdout",
          "text": [
            "Total sentence pairs loaded: 239189\n"
          ]
        }
      ],
      "source": [
        "import pandas as pd\n",
        "import numpy as np\n",
        "import io\n",
        "\n",
        "file_path = '/content/fra.txt'\n",
        "\n",
        "pairs = []\n",
        "\n",
        "with open(file_path, \"r\", encoding=\"utf-8\") as f:\n",
        "    for line in f:\n",
        "        line = line.strip()\n",
        "        if not line:\n",
        "            continue\n",
        "\n",
        "        parts = line.split('\\t')\n",
        "\n",
        "        if len(parts) >= 2:\n",
        "            english = parts[0].strip()\n",
        "            french = parts[1].strip()\n",
        "            pairs.append((english, french))\n",
        "\n",
        "print(\"Total sentence pairs loaded:\", len(pairs))"
      ]
    },
    {
      "cell_type": "code",
      "source": [
        "print(f\"English: {pairs[0][0]}\")\n",
        "print(f\"French: {pairs[0][1]}\")"
      ],
      "metadata": {
        "colab": {
          "base_uri": "https://localhost:8080/"
        },
        "id": "U8RxXGjNcT2F",
        "outputId": "869ad5bc-5dfc-4d17-9efb-b8cf11e85591"
      },
      "execution_count": 2,
      "outputs": [
        {
          "output_type": "stream",
          "name": "stdout",
          "text": [
            "English: Go.\n",
            "French: Va !\n"
          ]
        }
      ]
    },
    {
      "cell_type": "markdown",
      "source": [
        "Now we done with data loading lets move to data preprocessing which is neccessary for every nlp task. Becuase model does not know text. It knows only number so first we do data cleaning we remove some extra words or tokens which are not neccessary for our model"
      ],
      "metadata": {
        "id": "2fuixdIZdOSm"
      }
    },
    {
      "cell_type": "code",
      "source": [
        "import re\n",
        "import unicodedata\n",
        "\n",
        "def unicode_to_ascii(s):\n",
        "  \"\"\"convert special french character like é, è, ê to normal form.\"\"\"\n",
        "  return ''.join(\n",
        "        c for c in unicodedata.normalize('NFD', s)\n",
        "        if unicodedata.category(c) != 'Mn'\n",
        "    )"
      ],
      "metadata": {
        "id": "9k9duRENdGBn"
      },
      "execution_count": 3,
      "outputs": []
    },
    {
      "cell_type": "code",
      "source": [
        "def clean_text(s):\n",
        "  s = s.lower().strip()\n",
        "  s = unicode_to_ascii(s) # normalize unicode\n",
        "  s = re.sub(r\"([?.!,¿])\", r\" \\1 \", s) # separate punctuation\n",
        "  s = re.sub(r'\\s+', ' ', s) # remove extra spaces\n",
        "  s = re.sub(r\"[^a-zA-Z?.!,¿']+\", \" \", s) # need only letters number and some other punctuation\n",
        "  return s.strip()"
      ],
      "metadata": {
        "id": "TJ9onWImePL6"
      },
      "execution_count": 4,
      "outputs": []
    },
    {
      "cell_type": "code",
      "source": [
        "clean_pairs = []\n",
        "for eng, fr in pairs:\n",
        "    eng_clean = clean_text(eng)\n",
        "    fr_clean = clean_text(fr)\n",
        "    eng_clean = '<start> ' + eng_clean + ' <end>'  # we add some spatial word start and end in the fre_clean data\n",
        "    clean_pairs.append((eng_clean, fr_clean))"
      ],
      "metadata": {
        "id": "1dM3FccHfGGG"
      },
      "execution_count": 5,
      "outputs": []
    },
    {
      "cell_type": "code",
      "source": [
        "for i in range(5):\n",
        "  print(f\"English: {clean_pairs[i][0]}\")\n",
        "  print(f\"French: {clean_pairs[i][1]}\")"
      ],
      "metadata": {
        "colab": {
          "base_uri": "https://localhost:8080/"
        },
        "id": "CCkIaJjlf5-k",
        "outputId": "016a7fc9-5289-483d-fb5c-faa3d52d8acc"
      },
      "execution_count": 6,
      "outputs": [
        {
          "output_type": "stream",
          "name": "stdout",
          "text": [
            "English: <start> go . <end>\n",
            "French: va !\n",
            "English: <start> go . <end>\n",
            "French: marche .\n",
            "English: <start> go . <end>\n",
            "French: en route !\n",
            "English: <start> go . <end>\n",
            "French: bouge !\n",
            "English: <start> hi . <end>\n",
            "French: salut !\n"
          ]
        }
      ]
    },
    {
      "cell_type": "code",
      "source": [
        "all_eng_words = set()\n",
        "for en, fr in clean_pairs:\n",
        "    for word in en.split():\n",
        "        all_eng_words.add(word)\n",
        "\n",
        "print(\"Unique English words:\", len(all_eng_words))"
      ],
      "metadata": {
        "id": "-bK84wjwgldT",
        "colab": {
          "base_uri": "https://localhost:8080/"
        },
        "outputId": "10a1fb50-0302-4762-f9d2-835553090e70"
      },
      "execution_count": 7,
      "outputs": [
        {
          "output_type": "stream",
          "name": "stdout",
          "text": [
            "Unique English words: 16850\n"
          ]
        }
      ]
    },
    {
      "cell_type": "markdown",
      "source": [
        "Now we done with some preprocessing but some are still exist now  we tokenized our data by some length of unique words. mean we add top unique words and remaining we adACd to unk. Mean in our test if words is out of vocabulary it assign it to unk if add all length of unique words our training time and memore time will increased.\n",
        "Instead of using 16000 we only use 10000 and rest of words are goes to unk."
      ],
      "metadata": {
        "id": "hNcqd96RpgdW"
      }
    },
    {
      "cell_type": "code",
      "source": [
        "from tensorflow.keras.preprocessing.text import Tokenizer\n",
        "\n",
        "eng_sentences = [eng for eng,fre in clean_pairs]\n",
        "fre_sentences = [fre for eng,fre in clean_pairs]\n",
        "\n",
        "\n",
        "num_words_src = 20000   # English words limit\n",
        "num_words_tgt = 10000   # French words limit\n",
        "\n",
        "eng_tokenizer = Tokenizer(num_words = num_words_tgt, filters = \"\", oov_token = '<unk>')\n",
        "eng_tokenizer.fit_on_texts(eng_sentences)\n",
        "\n",
        "fr_tokenizer = Tokenizer(num_words = num_words_src,filters = \"\",oov_token = '<unk>')\n",
        "fr_tokenizer.fit_on_texts(fre_sentences)\n",
        "\n"
      ],
      "metadata": {
        "id": "rI_NA5uupUxh"
      },
      "execution_count": 8,
      "outputs": []
    },
    {
      "cell_type": "code",
      "source": [
        "print(\"English vocabulary size:\", len(eng_tokenizer.word_index))\n",
        "print(\"French vocabulary size:\", len(fr_tokenizer.word_index))"
      ],
      "metadata": {
        "colab": {
          "base_uri": "https://localhost:8080/"
        },
        "id": "5wssahYzsOYv",
        "outputId": "0f93f718-72c5-47e0-8dd0-501ab19a4c0e"
      },
      "execution_count": 9,
      "outputs": [
        {
          "output_type": "stream",
          "name": "stdout",
          "text": [
            "English vocabulary size: 16851\n",
            "French vocabulary size: 29456\n"
          ]
        }
      ]
    },
    {
      "cell_type": "code",
      "source": [
        "from tensorflow.keras.preprocessing.sequence import pad_sequences\n",
        "\n",
        "eng_sequences = eng_tokenizer.texts_to_sequences([eng for eng,fre in clean_pairs])\n",
        "fre_sequences = fr_tokenizer.texts_to_sequences([fre for eng,fre in clean_pairs])\n",
        "\n",
        "max_eng_len = max(len(seq) for seq in eng_sequences)\n",
        "max_fr_len = max(len(seq) for seq in fre_sequences)\n",
        "\n",
        "eng_padded = pad_sequences(eng_sequences, maxlen=max_eng_len, padding='post')\n",
        "fr_padded = pad_sequences(fre_sequences, maxlen=max_fr_len, padding='post')\n"
      ],
      "metadata": {
        "id": "Dm8F5mU6sQR-"
      },
      "execution_count": 10,
      "outputs": []
    },
    {
      "cell_type": "code",
      "source": [
        "max_eng_len"
      ],
      "metadata": {
        "colab": {
          "base_uri": "https://localhost:8080/"
        },
        "id": "qx8ZZg9VsY_N",
        "outputId": "18e9ac4b-f822-4014-84b4-b6ee57d09467"
      },
      "execution_count": 11,
      "outputs": [
        {
          "output_type": "execute_result",
          "data": {
            "text/plain": [
              "68"
            ]
          },
          "metadata": {},
          "execution_count": 11
        }
      ]
    },
    {
      "cell_type": "code",
      "source": [
        "print(\"English padded shape:\", eng_padded.shape)\n",
        "print(\"French padded shape:\", fr_padded.shape)"
      ],
      "metadata": {
        "colab": {
          "base_uri": "https://localhost:8080/"
        },
        "id": "UKY4VRHZtVhZ",
        "outputId": "6948a7f5-0ca7-46ca-a6cf-1561cb629443"
      },
      "execution_count": 12,
      "outputs": [
        {
          "output_type": "stream",
          "name": "stdout",
          "text": [
            "English padded shape: (239189, 68)\n",
            "French padded shape: (239189, 69)\n"
          ]
        }
      ]
    },
    {
      "cell_type": "code",
      "source": [
        "from sklearn.model_selection import train_test_split\n",
        "import tensorflow as tf\n",
        "\n",
        "y = eng_padded\n",
        "X = fr_padded\n",
        "\n",
        "X_train, X_test, y_train, y_test = train_test_split(X, y, test_size=0.2, random_state=42)\n",
        "\n",
        "print(\"Training data shape:\", X_train.shape)\n",
        "print(\"Testing data shape:\", X_test.shape)\n",
        "print(\"Training y data\", y_train.shape)\n",
        "print(\"Testing y data\", y_test.shape)\n",
        "\n",
        "BATCH_SIZE = 64\n",
        "\n",
        "train_ds = tf.data.Dataset.from_tensor_slices((X_train, y_train)).shuffle(10000).batch(BATCH_SIZE)\n",
        "test_ds = tf.data.Dataset.from_tensor_slices((X_test, y_test)).batch(BATCH_SIZE)\n",
        "\n",
        "print(\"✅ TensorFlow datasets created successfully!\")\n"
      ],
      "metadata": {
        "colab": {
          "base_uri": "https://localhost:8080/"
        },
        "id": "8RdMWJcftbUe",
        "outputId": "29be919d-285f-44bc-cfe1-0fd0115fd686"
      },
      "execution_count": 13,
      "outputs": [
        {
          "output_type": "stream",
          "name": "stdout",
          "text": [
            "Training data shape: (191351, 69)\n",
            "Testing data shape: (47838, 69)\n",
            "Training y data (191351, 68)\n",
            "Testing y data (47838, 68)\n",
            "✅ TensorFlow datasets created successfully!\n"
          ]
        }
      ]
    },
    {
      "cell_type": "markdown",
      "source": [
        "# Encoder\n"
      ],
      "metadata": {
        "id": "T3MZ7y6YuLLU"
      }
    },
    {
      "cell_type": "code",
      "source": [
        "import tensorflow as tf\n",
        "from tensorflow.keras.layers import Embedding, LSTM, Dense\n",
        "\n",
        "class Encoder(tf.keras.Model):\n",
        "  def __init__(self, vocab_size, embedding_dim, enc_units, batch_size):\n",
        "    super(Encoder, self).__init__()\n",
        "    self.batch_size = batch_size\n",
        "    self.enc_units = enc_units\n",
        "    self.embedding = Embedding(vocab_size, embedding_dim)\n",
        "    self.lstm = LSTM(self.enc_units,return_sequences = True,return_state = True,recurrent_initializer='glorot_uniform')\n",
        "  def call(self,x,hidden):\n",
        "    x = self.embedding(x)\n",
        "    output,state_h,state_c = self.lstm(x,initial_state = hidden)\n",
        "    return output,state_h,state_c\n",
        "  def initial_hidden_state(self):\n",
        "    return (tf.zeros((self.batch_size, self.enc_units)),\n",
        "                tf.zeros((self.batch_size, self.enc_units)))\n"
      ],
      "metadata": {
        "id": "3X8tIzmht4in"
      },
      "execution_count": 14,
      "outputs": []
    },
    {
      "cell_type": "markdown",
      "source": [
        "# Attention"
      ],
      "metadata": {
        "id": "CZh-wrOTvrtv"
      }
    },
    {
      "cell_type": "code",
      "source": [
        "from tensorflow.keras.layers import Layer\n",
        "\n",
        "class BahdanauAttention(tf.keras.Model):\n",
        "  def __init__(self,units):\n",
        "    super(BahdanauAttention,self).__init__()\n",
        "    self.W1 = Dense(units)\n",
        "    self.W2 = Dense(units)\n",
        "    self.V = Dense(1)\n",
        "  def call(self,encoder_outputs,decoder_hidden):\n",
        "    decoder_hidden_with_time_axis = tf.expand_dims(decoder_hidden, 1)\n",
        "    score = self.V(tf.nn.tanh(self.W1(encoder_outputs)+self.W2(decoder_hidden_with_time_axis)))\n",
        "    attention_weights = tf.nn.softmax(score,axis = 1)\n",
        "    context_vector = attention_weights * encoder_outputs\n",
        "    context_vector = tf.reduce_sum(context_vector,axis = 1)\n",
        "    return context_vector, tf.squeeze(attention_weights,axis = -1)"
      ],
      "metadata": {
        "id": "ufmG7qiivpaa"
      },
      "execution_count": 15,
      "outputs": []
    },
    {
      "cell_type": "markdown",
      "source": [
        "# Decoder"
      ],
      "metadata": {
        "id": "B97HLatFzcwP"
      }
    },
    {
      "cell_type": "code",
      "source": [
        "class Decoder(tf.keras.Model):\n",
        "  def __init__(self,vocab_size,embedding_dim,dec_units,batch_size):\n",
        "    super(Decoder,self).__init__()\n",
        "    self.batch_size = batch_size\n",
        "    self.enc_units = dec_units\n",
        "    self.embedding = Embedding(vocab_size,embedding_dim)\n",
        "    self.lstm = LSTM(self.enc_units,return_sequences = True,return_state = True,recurrent_initializer = 'glorot_uniform')\n",
        "    self.fc = Dense(vocab_size)\n",
        "    self.attention = BahdanauAttention(self.enc_units)\n",
        "  def call(self,x,hidden,encoder_outputs):\n",
        "    if isinstance(hidden, tuple):\n",
        "        hidden = hidden[0]\n",
        "    context_vector,attention_weights = self.attention(encoder_outputs,hidden)\n",
        "    x = self.embedding(x)\n",
        "    x = tf.concat([tf.expand_dims(context_vector,1),x],axis = -1)\n",
        "    output,state_h,state_c = self.lstm(x)\n",
        "    output = tf.reshape(output,(-1,output.shape[2]))\n",
        "    x = self.fc(output)\n",
        "    return x,(state_h,state_c),attention_weights"
      ],
      "metadata": {
        "id": "nVReWwMjzo9g"
      },
      "execution_count": 31,
      "outputs": []
    },
    {
      "cell_type": "code",
      "source": [],
      "metadata": {
        "id": "CxlUkw9fac8S"
      },
      "execution_count": 31,
      "outputs": []
    },
    {
      "cell_type": "code",
      "source": [
        "BUFFER_SIZE = X_train.shape[0]\n",
        "BATCH_SIZE = 64\n",
        "steps_per_epoch = X_train.shape[0] // BATCH_SIZE\n",
        "embedding_dim = 256\n",
        "units = 512\n",
        "vocab_inp_size = len(fr_tokenizer.word_index) + 1\n",
        "vocab_tar_size = len(eng_tokenizer.word_index) + 1\n",
        "\n",
        "# Create Encoder and Decoder objects\n",
        "encoder = Encoder(vocab_inp_size, embedding_dim, units, BATCH_SIZE)\n",
        "decoder = Decoder(vocab_tar_size, embedding_dim, units, BATCH_SIZE)\n"
      ],
      "metadata": {
        "id": "IltxaUZW1lif"
      },
      "execution_count": 32,
      "outputs": []
    },
    {
      "cell_type": "code",
      "source": [
        "vocab_inp_size"
      ],
      "metadata": {
        "colab": {
          "base_uri": "https://localhost:8080/"
        },
        "id": "_htdXMW_Sp_s",
        "outputId": "c660b3b6-9ffc-4eab-fb0a-2c48b86d53a7"
      },
      "execution_count": 33,
      "outputs": [
        {
          "output_type": "execute_result",
          "data": {
            "text/plain": [
              "29457"
            ]
          },
          "metadata": {},
          "execution_count": 33
        }
      ]
    },
    {
      "cell_type": "code",
      "source": [
        "vocab_tar_size"
      ],
      "metadata": {
        "colab": {
          "base_uri": "https://localhost:8080/"
        },
        "id": "bDvvhZzCOsaj",
        "outputId": "10d40d41-c26c-43f5-8c69-114bf2ce015c"
      },
      "execution_count": 34,
      "outputs": [
        {
          "output_type": "execute_result",
          "data": {
            "text/plain": [
              "16852"
            ]
          },
          "metadata": {},
          "execution_count": 34
        }
      ]
    },
    {
      "cell_type": "code",
      "source": [
        "# Define optimizer and loss\n",
        "optimizer = tf.keras.optimizers.Adam()\n",
        "\n",
        "loss_object = tf.keras.losses.SparseCategoricalCrossentropy(\n",
        "    from_logits=True, reduction='none'\n",
        ")\n",
        "\n",
        "def loss_function(real, pred):\n",
        "    mask = tf.math.logical_not(tf.math.equal(real, 0))  # ignore padding\n",
        "    loss_ = loss_object(real, pred)\n",
        "    mask = tf.cast(mask, dtype=loss_.dtype)\n",
        "    loss_ *= mask\n",
        "    return tf.reduce_mean(loss_)"
      ],
      "metadata": {
        "id": "0g7TooFm2wcp"
      },
      "execution_count": 35,
      "outputs": []
    },
    {
      "cell_type": "markdown",
      "source": [
        "# Why Masking\n",
        "If we do not do masking, model try to predict padded token that why training become slow and inaccurate.\n",
        "loss artificially become so high.\n",
        "\n",
        "With Masking model focuss only on meaningful tokens\n",
        "convergence become faster and translation quality improves"
      ],
      "metadata": {
        "id": "a1xMRIt356DT"
      }
    },
    {
      "cell_type": "code",
      "source": [
        "@tf.function\n",
        "def train_step(inp, targ, enc_hidden):\n",
        "    loss = 0\n",
        "\n",
        "    with tf.GradientTape() as tape:\n",
        "        # Encoder pass\n",
        "        enc_output, enc_h, enc_c = encoder(inp, enc_hidden)\n",
        "\n",
        "        dec_hidden = (enc_h,enc_c)\n",
        "\n",
        "        # Decoder input starts with <start> token\n",
        "        dec_input = tf.expand_dims([eng_tokenizer.word_index['<start>']] * BATCH_SIZE, 1)\n",
        "\n",
        "        # Teacher forcing: feeding the target as next input\n",
        "        for t in range(1, targ.shape[1]):\n",
        "            predictions, dec_hidden, _ = decoder(dec_input, dec_hidden, enc_output)\n",
        "            loss += loss_function(targ[:, t], predictions)\n",
        "\n",
        "            # use true label (teacher forcing)\n",
        "            dec_input = tf.expand_dims(targ[:, t], 1)\n",
        "\n",
        "    batch_loss = loss / int(targ.shape[1])\n",
        "\n",
        "    variables = encoder.trainable_variables + decoder.trainable_variables\n",
        "    gradients = tape.gradient(loss, variables)\n",
        "    optimizer.apply_gradients(zip(gradients, variables))\n",
        "\n",
        "    return batch_loss\n"
      ],
      "metadata": {
        "id": "XmvKZIwy3fo9"
      },
      "execution_count": 36,
      "outputs": []
    },
    {
      "cell_type": "code",
      "source": [
        "EPOCHS = 10\n",
        "\n",
        "for epoch in range(EPOCHS):\n",
        "    enc_hidden = encoder.initial_hidden_state()\n",
        "    total_loss = 0\n",
        "\n",
        "    for (batch, (inp, targ)) in enumerate(train_ds.take(steps_per_epoch)):\n",
        "        batch_loss = train_step(inp, targ, enc_hidden)\n",
        "        total_loss += batch_loss\n",
        "\n",
        "        if batch % 100 == 0:\n",
        "            print(f'Epoch {epoch+1} Batch {batch} Loss {batch_loss.numpy():.4f}')\n",
        "\n",
        "    # Average loss per epoch\n",
        "    print(f'Epoch {epoch+1} Loss {total_loss / steps_per_epoch:.4f}\\n')\n"
      ],
      "metadata": {
        "colab": {
          "base_uri": "https://localhost:8080/"
        },
        "id": "jsjQvTtRWXkP",
        "outputId": "8fd7459c-7f0b-4d77-8400-e9b527929aa0"
      },
      "execution_count": null,
      "outputs": [
        {
          "output_type": "stream",
          "name": "stdout",
          "text": [
            "Epoch 1 Batch 0 Loss 0.1356\n",
            "Epoch 1 Batch 100 Loss 0.1735\n",
            "Epoch 1 Batch 200 Loss 0.1681\n",
            "Epoch 1 Batch 300 Loss 0.1461\n",
            "Epoch 1 Batch 400 Loss 0.1727\n",
            "Epoch 1 Batch 500 Loss 0.1094\n",
            "Epoch 1 Batch 600 Loss 0.1597\n",
            "Epoch 1 Batch 700 Loss 0.1360\n",
            "Epoch 1 Batch 800 Loss 0.1520\n",
            "Epoch 1 Batch 900 Loss 0.1436\n",
            "Epoch 1 Batch 1000 Loss 0.1220\n",
            "Epoch 1 Batch 1100 Loss 0.1437\n",
            "Epoch 1 Batch 1200 Loss 0.1362\n",
            "Epoch 1 Batch 1300 Loss 0.1458\n",
            "Epoch 1 Batch 1400 Loss 0.1655\n",
            "Epoch 1 Batch 1500 Loss 0.1286\n",
            "Epoch 1 Batch 1600 Loss 0.1188\n",
            "Epoch 1 Batch 1700 Loss 0.1691\n",
            "Epoch 1 Batch 1800 Loss 0.1751\n",
            "Epoch 1 Batch 1900 Loss 0.1311\n",
            "Epoch 1 Batch 2000 Loss 0.1386\n",
            "Epoch 1 Batch 2100 Loss 0.1349\n",
            "Epoch 1 Batch 2200 Loss 0.1284\n",
            "Epoch 1 Batch 2300 Loss 0.0903\n",
            "Epoch 1 Batch 2400 Loss 0.1210\n",
            "Epoch 1 Batch 2500 Loss 0.1174\n",
            "Epoch 1 Batch 2600 Loss 0.1091\n",
            "Epoch 1 Batch 2700 Loss 0.1280\n",
            "Epoch 1 Batch 2800 Loss 0.1007\n",
            "Epoch 1 Batch 2900 Loss 0.1085\n",
            "Epoch 1 Loss 0.1335\n",
            "\n",
            "Epoch 2 Batch 0 Loss 0.1050\n",
            "Epoch 2 Batch 100 Loss 0.1088\n",
            "Epoch 2 Batch 200 Loss 0.1019\n",
            "Epoch 2 Batch 300 Loss 0.1218\n",
            "Epoch 2 Batch 400 Loss 0.1017\n",
            "Epoch 2 Batch 500 Loss 0.0893\n",
            "Epoch 2 Batch 600 Loss 0.0880\n",
            "Epoch 2 Batch 700 Loss 0.0973\n",
            "Epoch 2 Batch 800 Loss 0.1355\n",
            "Epoch 2 Batch 900 Loss 0.1239\n",
            "Epoch 2 Batch 1000 Loss 0.1086\n",
            "Epoch 2 Batch 1100 Loss 0.0995\n",
            "Epoch 2 Batch 1200 Loss 0.0834\n",
            "Epoch 2 Batch 1300 Loss 0.1126\n",
            "Epoch 2 Batch 1400 Loss 0.1013\n",
            "Epoch 2 Batch 1500 Loss 0.0928\n",
            "Epoch 2 Batch 1600 Loss 0.0921\n",
            "Epoch 2 Batch 1700 Loss 0.0887\n",
            "Epoch 2 Batch 1800 Loss 0.0768\n",
            "Epoch 2 Batch 1900 Loss 0.1114\n",
            "Epoch 2 Batch 2000 Loss 0.1188\n",
            "Epoch 2 Batch 2100 Loss 0.1201\n",
            "Epoch 2 Batch 2200 Loss 0.1110\n",
            "Epoch 2 Batch 2300 Loss 0.0723\n",
            "Epoch 2 Batch 2400 Loss 0.1086\n",
            "Epoch 2 Batch 2500 Loss 0.0771\n",
            "Epoch 2 Batch 2600 Loss 0.0940\n",
            "Epoch 2 Batch 2700 Loss 0.0892\n",
            "Epoch 2 Batch 2800 Loss 0.0802\n",
            "Epoch 2 Batch 2900 Loss 0.0930\n",
            "Epoch 2 Loss 0.1016\n",
            "\n",
            "Epoch 3 Batch 0 Loss 0.0773\n",
            "Epoch 3 Batch 100 Loss 0.1166\n",
            "Epoch 3 Batch 200 Loss 0.0930\n",
            "Epoch 3 Batch 300 Loss 0.0800\n"
          ]
        }
      ]
    },
    {
      "cell_type": "code",
      "source": [
        "def preprocess_sentence(sentence):\n",
        "    sentence = sentence.lower().strip()\n",
        "    sentence = re.sub(r\"([?.!,¿])\", r\" \\1 \", sentence)\n",
        "    sentence = re.sub(r'[\" \"]+', \" \", sentence)\n",
        "    sentence = re.sub(r\"[^a-zA-Z?.!,¿]+\", \" \", sentence)\n",
        "    sentence = sentence.strip()\n",
        "    return sentence\n"
      ],
      "metadata": {
        "id": "Bao4JgfMI6iH"
      },
      "execution_count": 108,
      "outputs": []
    },
    {
      "cell_type": "code",
      "source": [
        "def evaluate(sentence):\n",
        "    attention_plot = np.zeros((max_eng_len, max_fr_len))\n",
        "\n",
        "    # Preprocess the input sentence (same as training)\n",
        "    sentence = preprocess_sentence(sentence)\n",
        "\n",
        "    inputs = [fr_tokenizer.word_index.get(i, fr_tokenizer.word_index['<unk>']) for i in sentence.split(' ')]\n",
        "    inputs = pad_sequences([inputs], maxlen=max_fr_len, padding='post')\n",
        "    inputs = tf.convert_to_tensor(inputs)\n",
        "\n",
        "    result = ''\n",
        "\n",
        "    hidden = (tf.zeros((1, units)), tf.zeros((1, units)))\n",
        "    enc_out, enc_h, enc_c = encoder(inputs, hidden)\n",
        "\n",
        "    dec_hidden = (enc_h, enc_c)\n",
        "    dec_input = tf.expand_dims([eng_tokenizer.word_index['<start>']], 0)\n",
        "\n",
        "    for t in range(max_eng_len):\n",
        "        predictions, dec_hidden, attention_weights = decoder(dec_input, dec_hidden, enc_out)\n",
        "\n",
        "        # store attention weights for visualization\n",
        "        attention_weights = tf.reshape(attention_weights, (-1, ))\n",
        "        attention_plot[t] = attention_weights.numpy()\n",
        "\n",
        "        predicted_id = tf.argmax(predictions[0]).numpy()\n",
        "\n",
        "        # get predicted word\n",
        "        predicted_word = eng_tokenizer.index_word.get(predicted_id, '<unk>')\n",
        "\n",
        "\n",
        "        # if end token predicted → stop translation\n",
        "        if predicted_word == '<end>':\n",
        "            return result.strip(), sentence, attention_plot\n",
        "        result += predicted_word + ' '\n",
        "        # predicted word becomes next input\n",
        "        dec_input = tf.expand_dims([predicted_id], 0)\n",
        "    return result, sentence, attention_plot\n"
      ],
      "metadata": {
        "id": "DIQuFaiuYjIZ"
      },
      "execution_count": 109,
      "outputs": []
    },
    {
      "cell_type": "code",
      "source": [
        "french_sentence = \"Tu ferais mieux de me dire exactement ce qu’il s’est passé.\"\n",
        "result = evaluate(french_sentence)\n",
        "print(result[0])"
      ],
      "metadata": {
        "id": "DXM90VNTs_kP",
        "colab": {
          "base_uri": "https://localhost:8080/"
        },
        "outputId": "b399f7b4-da70-44b3-9e79-1faece982058"
      },
      "execution_count": 110,
      "outputs": [
        {
          "output_type": "stream",
          "name": "stdout",
          "text": [
            "you'd better tell me exactly what happened .\n"
          ]
        }
      ]
    },
    {
      "cell_type": "code",
      "source": [
        "def plot_attention(attention, sentence, predicted_sentence):\n",
        "    import matplotlib.pyplot as plt\n",
        "    import matplotlib.ticker as ticker\n",
        "    fig = plt.figure(figsize=(10,10))\n",
        "    ax = fig.add_subplot(1, 1, 1)\n",
        "    attention = attention[:len(predicted_sentence), :len(sentence)]\n",
        "\n",
        "    cax = ax.matshow(attention, cmap='viridis')\n",
        "    fig.colorbar(cax)\n",
        "\n",
        "    ax.set_xticklabels([''] + sentence, rotation=90)\n",
        "    ax.set_yticklabels([''] + predicted_sentence)\n",
        "    ax.xaxis.set_major_locator(ticker.MultipleLocator(1))\n",
        "    ax.yaxis.set_major_locator(ticker.MultipleLocator(1))\n",
        "    plt.show()\n"
      ],
      "metadata": {
        "id": "b8EFVsEZuu35"
      },
      "execution_count": 111,
      "outputs": []
    },
    {
      "cell_type": "code",
      "source": [
        "result, sentence, attention_plot = evaluate(french_sentence)\n",
        "plot_attention(attention_plot, sentence.split(' '), result.split(\" \"))"
      ],
      "metadata": {
        "colab": {
          "base_uri": "https://localhost:8080/",
          "height": 889
        },
        "id": "mLeVZRHyHAuR",
        "outputId": "2b75dc43-35b5-4389-e5e4-876bee0046ec"
      },
      "execution_count": 112,
      "outputs": [
        {
          "output_type": "stream",
          "name": "stderr",
          "text": [
            "/tmp/ipython-input-1914731185.py:11: UserWarning: set_ticklabels() should only be used with a fixed number of ticks, i.e. after set_ticks() or using a FixedLocator.\n",
            "  ax.set_xticklabels([''] + sentence, rotation=90)\n",
            "/tmp/ipython-input-1914731185.py:12: UserWarning: set_ticklabels() should only be used with a fixed number of ticks, i.e. after set_ticks() or using a FixedLocator.\n",
            "  ax.set_yticklabels([''] + predicted_sentence)\n"
          ]
        },
        {
          "output_type": "display_data",
          "data": {
            "text/plain": [
              "<Figure size 1000x1000 with 2 Axes>"
            ],
            "image/png": "[encoded data removed]"
          },
          "metadata": {}
        }
      ]
    },
    {
      "cell_type": "code",
      "source": [
        "from nltk.translate.bleu_score import sentence_bleu\n",
        "\n",
        "reference = [['I', 'am', 'going', 'home']]\n",
        "candidate = ['I', 'am', 'going', 'to', 'home']\n",
        "\n",
        "score = sentence_bleu(reference, candidate)\n",
        "print(score)"
      ],
      "metadata": {
        "colab": {
          "base_uri": "https://localhost:8080/"
        },
        "id": "cWWc-v5zHk0A",
        "outputId": "8e477d21-f908-474a-eee3-d5564f07bbe0"
      },
      "execution_count": 113,
      "outputs": [
        {
          "output_type": "stream",
          "name": "stdout",
          "text": [
            "7.380245217279165e-78\n"
          ]
        },
        {
          "output_type": "stream",
          "name": "stderr",
          "text": [
            "/usr/local/lib/python3.12/dist-packages/nltk/translate/bleu_score.py:577: UserWarning: \n",
            "The hypothesis contains 0 counts of 4-gram overlaps.\n",
            "Therefore the BLEU score evaluates to 0, independently of\n",
            "how many N-gram overlaps of lower order it contains.\n",
            "Consider using lower n-gram order or use SmoothingFunction()\n",
            "  warnings.warn(_msg)\n"
          ]
        }
      ]
    },
    {
      "cell_type": "code",
      "source": [
        "from nltk.translate.bleu_score import corpus_bleu\n",
        "\n",
        "references = [\n",
        "    [['I', 'am', 'going', 'home']],\n",
        "    [['He', 'is', 'sleeping']]\n",
        "]\n",
        "candidates = [\n",
        "    ['I', 'am', 'going', 'home'],\n",
        "    ['He', 'sleeping']\n",
        "]\n",
        "\n",
        "score = corpus_bleu(references, candidates)\n",
        "print(score)"
      ],
      "metadata": {
        "colab": {
          "base_uri": "https://localhost:8080/"
        },
        "id": "lVoQnYvCN5eA",
        "outputId": "89e07052-07ba-43b6-a9b1-da8b0d9de79e"
      },
      "execution_count": 87,
      "outputs": [
        {
          "output_type": "stream",
          "name": "stdout",
          "text": [
            "0.5985529678206387\n"
          ]
        }
      ]
    },
    {
      "cell_type": "code",
      "source": [
        "test_sentences = [\n",
        "    \"je suis fatigué .\",\n",
        "    \"il fait chaud aujourd'hui .\",\n",
        "    \"j'aime le football .\"\n",
        "]\n",
        "\n",
        "for sent in test_sentences:\n",
        "    predicted, _, _ = evaluate(sent)\n",
        "    print(f\"\\nInput: {sent}\")\n",
        "    print(f\"Predicted: {predicted}\")\n",
        "\n",
        "    # prepare reference and candidate tokens\n",
        "    reference = [sent.split()]  # human (French)\n",
        "    candidate = predicted.lower().replace('.', '').split()  # model (English)\n",
        "\n",
        "    bleu = sentence_bleu(reference, candidate)\n",
        "    print(f\"BLEU Score: {bleu:.4f}\")\n"
      ],
      "metadata": {
        "colab": {
          "base_uri": "https://localhost:8080/"
        },
        "id": "lFkkMApROGek",
        "outputId": "9a53cca1-d0cb-4307-916c-507e6df5ba8d"
      },
      "execution_count": 98,
      "outputs": [
        {
          "output_type": "stream",
          "name": "stdout",
          "text": [
            "\n",
            "Input: je suis fatigué .\n",
            "Predicted: i'm tired .\n",
            "BLEU Score: 0.0000\n",
            "\n",
            "Input: il fait chaud aujourd'hui .\n",
            "Predicted: it's cold today .\n",
            "BLEU Score: 0.0000\n",
            "\n",
            "Input: j'aime le football .\n",
            "Predicted: i like soccer .\n",
            "BLEU Score: 0.0000\n"
          ]
        }
      ]
    },
    {
      "cell_type": "code",
      "source": [
        "from nltk.translate.bleu_score import sentence_bleu, SmoothingFunction\n",
        "import numpy as np\n",
        "\n",
        "smooth_fn = SmoothingFunction().method1\n",
        "\n",
        "def evaluate_bleu_on_test(test_ds, num_samples=100):\n",
        "    total_bleu = 0\n",
        "    count = 0\n",
        "\n",
        "    for batch, (inp, targ) in enumerate(test_ds.take(num_samples)):\n",
        "        # Convert tensor to numpy/int32\n",
        "        inp = inp.numpy()\n",
        "        targ = targ.numpy()\n",
        "\n",
        "        # For each sentence in batch\n",
        "        for i in range(inp.shape[0]):\n",
        "            # Convert input tensor back to French sentence\n",
        "            inp_sentence = ' '.join([fr_tokenizer.index_word.get(idx, '') for idx in inp[i] if idx != 0])\n",
        "\n",
        "            # Convert target tensor back to English reference\n",
        "            reference = [eng_tokenizer.index_word.get(idx, '') for idx in targ[i] if idx not in [0]]\n",
        "            reference = [w for w in reference if w not in ['<start>', '<end>']]  # remove special tokens\n",
        "            reference = [reference]  # wrap inside a list (required by nltk)\n",
        "\n",
        "            # Predict translation using your model\n",
        "            prediction, _, _ = evaluate(inp_sentence)\n",
        "            candidate = prediction.lower().split()\n",
        "\n",
        "            # Calculate BLEU score\n",
        "            bleu = sentence_bleu(reference, candidate, smoothing_function=smooth_fn)\n",
        "            total_bleu += bleu\n",
        "            count += 1\n",
        "\n",
        "        # Stop after num_samples sentences\n",
        "        if count >= num_samples:\n",
        "            break\n",
        "\n",
        "    avg_bleu = total_bleu / count\n",
        "    print(f\"\\nAverage BLEU score over {count} samples: {avg_bleu:.4f}\")\n",
        "    return avg_bleu\n"
      ],
      "metadata": {
        "id": "x1NHgQ71PV9W"
      },
      "execution_count": 99,
      "outputs": []
    },
    {
      "cell_type": "code",
      "source": [
        "avg_bleu = evaluate_bleu_on_test(test_ds, num_samples=100)\n",
        "print(\"Final BLEU Score:\", avg_bleu)"
      ],
      "metadata": {
        "colab": {
          "base_uri": "https://localhost:8080/"
        },
        "id": "yJ0Nf-9OQbiJ",
        "outputId": "7796855c-4405-4d00-e94c-04b6c6e545fa"
      },
      "execution_count": 100,
      "outputs": [
        {
          "output_type": "stream",
          "name": "stdout",
          "text": [
            "\n",
            "Average BLEU score over 128 samples: 0.3563\n",
            "Final BLEU Score: 0.3562729781195307\n"
          ]
        }
      ]
    },
    {
      "cell_type": "code",
      "source": [],
      "metadata": {
        "id": "1n6VXwyiQg22"
      },
      "execution_count": null,
      "outputs": []
    }
  ]
}